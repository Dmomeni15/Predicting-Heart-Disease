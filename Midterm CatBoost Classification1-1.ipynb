{
 "cells": [
  {
   "cell_type": "markdown",
   "id": "30b53c31",
   "metadata": {},
   "source": [
    "# Midterm Project: Heart Disease Health Indicators"
   ]
  },
  {
   "cell_type": "code",
   "execution_count": 1,
   "id": "e994ab77",
   "metadata": {},
   "outputs": [],
   "source": [
    "# make all necessary imports\n",
    "import numpy as np\n",
    "import pandas as pd\n",
    "import matplotlib.pyplot as plt\n",
    "from sklearn.model_selection import train_test_split\n",
    "from sklearn.metrics import confusion_matrix, accuracy_score\n",
    "from catboost import CatBoostClassifier, Pool\n",
    "\n",
    "# read in the data\n",
    "data = pd.read_csv('data.csv')\n",
    "    \n",
    "# separate the labels from the data\n",
    "labels = data.pop('HeartDiseaseorAttack')"
   ]
  },
  {
   "cell_type": "markdown",
   "id": "c2ee62de",
   "metadata": {},
   "source": [
    "Apply variable transformations to BMI, MentHlth, and PhysHlth."
   ]
  },
  {
   "cell_type": "code",
   "execution_count": 2,
   "id": "030a8302",
   "metadata": {},
   "outputs": [],
   "source": [
    "# convert BMI\n",
    "for i in range(len(data)):\n",
    "    if data.loc[i]['BMI'] <  18.5:\n",
    "        data.loc[i]['BMI'] = 1\n",
    "    elif 18.5 <= data.loc[i]['BMI'] < 25:\n",
    "        data.loc[i]['BMI'] = 2\n",
    "    elif 25 <= data.loc[i]['BMI'] < 30:\n",
    "        data.loc[i]['BMI'] = 3\n",
    "    elif 30 <= data.loc[i]['BMI'] < 35:\n",
    "        data.loc[i]['BMI'] = 4\n",
    "    elif 35 <= data.loc[i]['BMI'] < 40:\n",
    "        data.loc[i]['BMI'] = 5\n",
    "    else:\n",
    "        data.loc[i]['BMI'] = 6\n",
    "        \n",
    "# convert MentHlth\n",
    "for i in range(len(data)):\n",
    "    if data.loc[i]['MentHlth'] <= 5 :\n",
    "        data.loc[i]['MentHlth'] = 1\n",
    "    elif 5 < data.loc[i]['MentHlth'] <= 11:\n",
    "        data.loc[i]['MentHlth'] = 2\n",
    "    elif 11 < data.loc[i]['MentHlth'] <= 17:\n",
    "        data.loc[i]['MentHlth'] = 3\n",
    "    elif 17 < data.loc[i]['MentHlth'] <= 23:\n",
    "        data.loc[i]['MentHlth'] = 4\n",
    "    else:\n",
    "        data.loc[i]['MentHlth'] = 5\n",
    "\n",
    "# convert PhysHlth\n",
    "for i in range(len(data)):\n",
    "    if data.loc[i]['PhysHlth'] <= 5:\n",
    "        data.loc[i]['PhysHlth'] = 1\n",
    "    elif 5 < data.loc[i]['PhysHlth'] <= 11:\n",
    "        data.loc[i]['PhysHlth'] = 2\n",
    "    elif 11 < data.loc[i]['PhysHlth'] <= 17:\n",
    "        data.loc[i]['PhysHlth'] = 3\n",
    "    elif 17 < data.loc[i]['PhysHlth'] <= 23:\n",
    "        data.loc[i]['PhysHlth'] = 4\n",
    "    else:\n",
    "        data.loc[i]['PhysHlth'] = 5"
   ]
  },
  {
   "cell_type": "markdown",
   "id": "d539df88",
   "metadata": {},
   "source": [
    "Now separate the data."
   ]
  },
  {
   "cell_type": "code",
   "execution_count": 3,
   "id": "e09da8ba",
   "metadata": {},
   "outputs": [],
   "source": [
    "# split the data and labels into training and validation\n",
    "training_data, validation_data, training_labels, validation_labels = train_test_split(data, labels,\n",
    "                                                                                train_size=0.8, random_state=69)\n",
    "\n",
    "# Pool the training and validation datasets for later\n",
    "training_dataset = Pool(data = training_data, label = training_labels)\n",
    "validation_dataset = Pool(data = validation_data, label = validation_labels)"
   ]
  },
  {
   "cell_type": "markdown",
   "id": "ab28729d",
   "metadata": {},
   "source": [
    "## Model 1: No Specified Class Weights"
   ]
  },
  {
   "cell_type": "markdown",
   "id": "0d1ebfe4",
   "metadata": {},
   "source": [
    "Instantiate the model."
   ]
  },
  {
   "cell_type": "code",
   "execution_count": 4,
   "id": "1871e69f",
   "metadata": {},
   "outputs": [
    {
     "data": {
      "text/plain": [
       "<catboost.core.CatBoostClassifier at 0x7ff0c513c9b0>"
      ]
     },
     "execution_count": 4,
     "metadata": {},
     "output_type": "execute_result"
    }
   ],
   "source": [
    "# initialize and fit the model using the training and validation sets using default parameters\n",
    "cboost = CatBoostClassifier(loss_function = 'Logloss', custom_loss = ['Accuracy'], logging_level = 'Silent', \\\n",
    "                            random_seed=69)\n",
    "\n",
    "# cboost.fit(training_dataset, eval_set = (validation_dataset))\n",
    "cboost.fit(training_dataset, eval_set = validation_dataset)"
   ]
  },
  {
   "cell_type": "markdown",
   "id": "2ac73c92",
   "metadata": {},
   "source": [
    "Make predictions"
   ]
  },
  {
   "cell_type": "code",
   "execution_count": 5,
   "id": "53e098ef",
   "metadata": {},
   "outputs": [],
   "source": [
    "# make the predictions using the optimal model\n",
    "predictions = cboost.predict(data).flatten()"
   ]
  },
  {
   "cell_type": "markdown",
   "id": "75a19211",
   "metadata": {},
   "source": [
    "Check predicion accuracy"
   ]
  },
  {
   "cell_type": "code",
   "execution_count": 6,
   "id": "8a002497",
   "metadata": {},
   "outputs": [
    {
     "data": {
      "text/plain": [
       "23893"
      ]
     },
     "execution_count": 6,
     "metadata": {},
     "output_type": "execute_result"
    }
   ],
   "source": [
    "np.unique(labels, return_counts = True)[1][1]"
   ]
  },
  {
   "cell_type": "code",
   "execution_count": 7,
   "id": "6a5a2c04",
   "metadata": {},
   "outputs": [
    {
     "name": "stdout",
     "output_type": "stream",
     "text": [
      "Overall accuracy: 0.9101190476190476%\n",
      "Portion of heart disease cases caught: 0.11040890637425187\n"
     ]
    },
    {
     "data": {
      "text/html": [
       "<div>\n",
       "<style scoped>\n",
       "    .dataframe tbody tr th:only-of-type {\n",
       "        vertical-align: middle;\n",
       "    }\n",
       "\n",
       "    .dataframe tbody tr th {\n",
       "        vertical-align: top;\n",
       "    }\n",
       "\n",
       "    .dataframe thead th {\n",
       "        text-align: right;\n",
       "    }\n",
       "</style>\n",
       "<table border=\"1\" class=\"dataframe\">\n",
       "  <thead>\n",
       "    <tr style=\"text-align: right;\">\n",
       "      <th></th>\n",
       "      <th>Predicted 0</th>\n",
       "      <th>Predicted 1</th>\n",
       "    </tr>\n",
       "  </thead>\n",
       "  <tbody>\n",
       "    <tr>\n",
       "      <th>Actually 0</th>\n",
       "      <td>228241</td>\n",
       "      <td>1546</td>\n",
       "    </tr>\n",
       "    <tr>\n",
       "      <th>Actually 1</th>\n",
       "      <td>21255</td>\n",
       "      <td>2638</td>\n",
       "    </tr>\n",
       "  </tbody>\n",
       "</table>\n",
       "</div>"
      ],
      "text/plain": [
       "            Predicted 0  Predicted 1\n",
       "Actually 0       228241         1546\n",
       "Actually 1        21255         2638"
      ]
     },
     "metadata": {},
     "output_type": "display_data"
    }
   ],
   "source": [
    "# evaluation function: display the confusion matrix of the predicitons vs actual labels\n",
    "def class_res(testing_labels, predictions, labels):\n",
    "    print('Overall accuracy: ' + str(accuracy_score(testing_labels, predictions))+'%')\n",
    "    acc = confusion_matrix(testing_labels, predictions)\n",
    "    accframe = pd.DataFrame(data = acc, index = ['Actually 0', 'Actually 1'], \\\n",
    "                            columns = ['Predicted 0', 'Predicted 1'])\n",
    "    print('Portion of heart disease cases caught: ' + str(accframe.loc['Actually 1']['Predicted 1'] / \\\n",
    "                                       np.unique(labels, return_counts = True)[1][1]))\n",
    "    display(accframe)\n",
    "    \n",
    "class_res(labels, predictions, labels)"
   ]
  },
  {
   "cell_type": "markdown",
   "id": "3be5332e",
   "metadata": {},
   "source": [
    "Get feature importance."
   ]
  },
  {
   "cell_type": "code",
   "execution_count": 8,
   "id": "caf11943",
   "metadata": {},
   "outputs": [
    {
     "data": {
      "text/plain": [
       "<matplotlib.axes._subplots.AxesSubplot at 0x7ff0b5ac4320>"
      ]
     },
     "execution_count": 8,
     "metadata": {},
     "output_type": "execute_result"
    },
    {
     "data": {
      "image/png": "[encoded data removed]",
      "text/plain": [
       "<Figure size 432x288 with 1 Axes>"
      ]
     },
     "metadata": {
      "needs_background": "light"
     },
     "output_type": "display_data"
    }
   ],
   "source": [
    "feat_frame = pd.DataFrame({'feature_importance': cboost.get_feature_importance(training_dataset)}, \\\n",
    "                          index = training_data.columns).sort_values(by=['feature_importance'],ascending = True)\n",
    "feat_frame.plot.bar()"
   ]
  },
  {
   "cell_type": "code",
   "execution_count": 9,
   "id": "237de011",
   "metadata": {},
   "outputs": [
    {
     "data": {
      "text/plain": [
       "array([ 7.67539124,  9.2178088 ,  1.0762452 ,  1.63123724,  3.69405923,\n",
       "        3.5692512 ,  2.47533032,  0.35946763,  0.17897053,  0.34951036,\n",
       "        0.6596485 ,  0.20566005,  0.90967888, 17.89949404,  0.93169698,\n",
       "        2.12693455,  2.90028105,  8.92197326, 30.76730915,  2.05718687,\n",
       "        2.39286495])"
      ]
     },
     "execution_count": 9,
     "metadata": {},
     "output_type": "execute_result"
    }
   ],
   "source": [
    "cboost.get_feature_importance(training_dataset)"
   ]
  },
  {
   "cell_type": "markdown",
   "id": "64de5571",
   "metadata": {},
   "source": [
    "## Model 2: Specified Class Weights"
   ]
  },
  {
   "cell_type": "markdown",
   "id": "1e21cfc9",
   "metadata": {},
   "source": [
    "Instantiate a new classifier."
   ]
  },
  {
   "cell_type": "code",
   "execution_count": 10,
   "id": "6848368f",
   "metadata": {},
   "outputs": [
    {
     "data": {
      "text/plain": [
       "<catboost.core.CatBoostClassifier at 0x7ff0b61a41d0>"
      ]
     },
     "execution_count": 10,
     "metadata": {},
     "output_type": "execute_result"
    }
   ],
   "source": [
    "# initialize and fit the model using the training and validation sets using default parameters\n",
    "cboost1 = CatBoostClassifier(loss_function = 'Logloss', custom_loss = ['Accuracy'], logging_level = 'Silent', \\\n",
    "                            class_weights=[1, 10], random_seed=69)\n",
    "\n",
    "# cboost.fit(training_dataset, eval_set = (validation_dataset))\n",
    "cboost1.fit(training_dataset, eval_set = validation_dataset)"
   ]
  },
  {
   "cell_type": "markdown",
   "id": "be5a9d2b",
   "metadata": {},
   "source": [
    "Make predictions."
   ]
  },
  {
   "cell_type": "code",
   "execution_count": 11,
   "id": "7f8ec36b",
   "metadata": {},
   "outputs": [],
   "source": [
    "predictions1 = cboost1.predict(data).flatten()"
   ]
  },
  {
   "cell_type": "markdown",
   "id": "5b548c09",
   "metadata": {},
   "source": [
    "Check prediction accuracy."
   ]
  },
  {
   "cell_type": "code",
   "execution_count": 12,
   "id": "067aba88",
   "metadata": {},
   "outputs": [
    {
     "name": "stdout",
     "output_type": "stream",
     "text": [
      "Overall accuracy: 0.7365302743614002%\n",
      "Portion of heart disease cases caught: 0.8337588415016951\n"
     ]
    },
    {
     "data": {
      "text/html": [
       "<div>\n",
       "<style scoped>\n",
       "    .dataframe tbody tr th:only-of-type {\n",
       "        vertical-align: middle;\n",
       "    }\n",
       "\n",
       "    .dataframe tbody tr th {\n",
       "        vertical-align: top;\n",
       "    }\n",
       "\n",
       "    .dataframe thead th {\n",
       "        text-align: right;\n",
       "    }\n",
       "</style>\n",
       "<table border=\"1\" class=\"dataframe\">\n",
       "  <thead>\n",
       "    <tr style=\"text-align: right;\">\n",
       "      <th></th>\n",
       "      <th>Predicted 0</th>\n",
       "      <th>Predicted 1</th>\n",
       "    </tr>\n",
       "  </thead>\n",
       "  <tbody>\n",
       "    <tr>\n",
       "      <th>Actually 0</th>\n",
       "      <td>166922</td>\n",
       "      <td>62865</td>\n",
       "    </tr>\n",
       "    <tr>\n",
       "      <th>Actually 1</th>\n",
       "      <td>3972</td>\n",
       "      <td>19921</td>\n",
       "    </tr>\n",
       "  </tbody>\n",
       "</table>\n",
       "</div>"
      ],
      "text/plain": [
       "            Predicted 0  Predicted 1\n",
       "Actually 0       166922        62865\n",
       "Actually 1         3972        19921"
      ]
     },
     "metadata": {},
     "output_type": "display_data"
    }
   ],
   "source": [
    "class_res(labels, predictions1, labels)"
   ]
  },
  {
   "cell_type": "markdown",
   "id": "fcf1c93a",
   "metadata": {},
   "source": [
    "Get feature importance."
   ]
  },
  {
   "cell_type": "code",
   "execution_count": 13,
   "id": "4612f727",
   "metadata": {},
   "outputs": [
    {
     "data": {
      "text/plain": [
       "<matplotlib.axes._subplots.AxesSubplot at 0x7ff0b63875c0>"
      ]
     },
     "execution_count": 13,
     "metadata": {},
     "output_type": "execute_result"
    },
    {
     "data": {
      "image/png": "[encoded data removed]",
      "text/plain": [
       "<Figure size 432x288 with 1 Axes>"
      ]
     },
     "metadata": {
      "needs_background": "light"
     },
     "output_type": "display_data"
    }
   ],
   "source": [
    "feat_frame1 = pd.DataFrame({'feature_importance': cboost1.get_feature_importance(training_dataset)}, \\\n",
    "                          index = training_data.columns).sort_values(by=['feature_importance'],ascending = True)\n",
    "feat_frame1.plot.bar()"
   ]
  },
  {
   "cell_type": "code",
   "execution_count": 14,
   "id": "74191020",
   "metadata": {},
   "outputs": [
    {
     "data": {
      "text/plain": [
       "array([ 6.71786088,  6.99231587,  1.34620052,  2.64945508,  2.90739442,\n",
       "        6.00893391,  2.33212873,  0.55572695,  0.36109163,  0.38424574,\n",
       "        0.87443331,  0.5828778 ,  1.11689001, 16.79729619,  1.42109379,\n",
       "        1.74076289,  3.30106628,  8.66518262, 29.400498  ,  2.13054827,\n",
       "        3.71399711])"
      ]
     },
     "execution_count": 14,
     "metadata": {},
     "output_type": "execute_result"
    }
   ],
   "source": [
    "cboost1.get_feature_importance(training_dataset)"
   ]
  }
 ],
 "metadata": {
  "kernelspec": {
   "display_name": "Python 3",
   "language": "python",
   "name": "python3"
  },
  "language_info": {
   "codemirror_mode": {
    "name": "ipython",
    "version": 3
   },
   "file_extension": ".py",
   "mimetype": "text/x-python",
   "name": "python",
   "nbconvert_exporter": "python",
   "pygments_lexer": "ipython3",
   "version": "3.6.13"
  }
 },
 "nbformat": 4,
 "nbformat_minor": 5
}
